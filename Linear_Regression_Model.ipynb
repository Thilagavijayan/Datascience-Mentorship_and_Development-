{
  "cells": [
    {
      "cell_type": "markdown",
      "metadata": {
        "id": "view-in-github",
        "colab_type": "text"
      },
      "source": [
        "<a href=\"https://colab.research.google.com/github/Thilagavijayan/Datascience_Mentorship_and_Development/blob/main/Linear_Regression_Model.ipynb\" target=\"_parent\"><img src=\"https://colab.research.google.com/assets/colab-badge.svg\" alt=\"Open In Colab\"/></a>"
      ]
    },
    {
      "cell_type": "markdown",
      "id": "985ea445",
      "metadata": {
        "id": "985ea445"
      },
      "source": [
        "# Linear Regression Model Training and Evaluation using House Price Prediction Dataset"
      ]
    },
    {
      "cell_type": "code",
      "execution_count": null,
      "id": "9500f41d",
      "metadata": {
        "id": "9500f41d"
      },
      "outputs": [],
      "source": [
        "# Step 1: Import necessary libraries\n",
        "import pandas as pd\n",
        "from sklearn.model_selection import train_test_split\n",
        "from sklearn.linear_model import LinearRegression\n",
        "from sklearn.metrics import mean_squared_error"
      ]
    },
    {
      "cell_type": "markdown",
      "source": [
        "In this step, the required libraries are imported. Pandas is imported for data manipulation, train_test_split for splitting the dataset, LinearRegression for the linear regression model, and mean_squared_error for evaluating the model's performance."
      ],
      "metadata": {
        "id": "4tlFrdvDEe1j"
      },
      "id": "4tlFrdvDEe1j"
    },
    {
      "cell_type": "code",
      "execution_count": null,
      "id": "a496d1f6",
      "metadata": {
        "id": "a496d1f6"
      },
      "outputs": [],
      "source": [
        "# Step 2: Load the dataset\n",
        "data = pd.read_csv('C:/Users/Thilaga/Datascience/kc_house_data.csv')"
      ]
    },
    {
      "cell_type": "markdown",
      "source": [
        "The dataset is loaded using the pandas read_csv function. The dataset file 'kc_house_data.csv' should be in the same directory as the Python script."
      ],
      "metadata": {
        "id": "bdWXoaxKEk94"
      },
      "id": "bdWXoaxKEk94"
    },
    {
      "cell_type": "code",
      "execution_count": null,
      "id": "2be8bfe8",
      "metadata": {
        "id": "2be8bfe8"
      },
      "outputs": [],
      "source": [
        "# Step 3: Data preprocessing\n",
        "# Drop unnecessary columns\n",
        "data = data.drop(['id', 'date'], axis=1)\n",
        "# Handle missing values if any\n",
        "data = data.dropna()"
      ]
    },
    {
      "cell_type": "markdown",
      "source": [
        "In this step, unnecessary columns ('id' and 'date') are dropped from the dataset using the drop function. Missing values, if any, are also handled by dropping the rows containing missing values using dropna()."
      ],
      "metadata": {
        "id": "WQS0-NVXE2bB"
      },
      "id": "WQS0-NVXE2bB"
    },
    {
      "cell_type": "code",
      "execution_count": null,
      "id": "fe1ae1a2",
      "metadata": {
        "id": "fe1ae1a2"
      },
      "outputs": [],
      "source": [
        "# Step 4: Split the dataset into training and testing sets\n",
        "X = data.drop('price', axis=1)\n",
        "y = data['price']\n",
        "X_train, X_test, y_train, y_test = train_test_split(X, y, test_size=0.2, random_state=42)"
      ]
    },
    {
      "cell_type": "markdown",
      "source": [
        "The dataset is split into features (X --> Independant variable) and the target variable (y --> Dependant variable). The train_test_split function is then used to split X and y into training and testing sets. The test size is set to 0.2, indicating that 20% of the data will be used for testing. The random_state parameter is set to 42 to ensure reproducibility of the results."
      ],
      "metadata": {
        "id": "a90Jnwm5FEs0"
      },
      "id": "a90Jnwm5FEs0"
    },
    {
      "cell_type": "code",
      "execution_count": null,
      "id": "68e1d500",
      "metadata": {
        "id": "68e1d500",
        "outputId": "401c7a96-1291-4a78-ac6d-5fdbe9ab9b55"
      },
      "outputs": [
        {
          "data": {
            "text/plain": [
              "LinearRegression()"
            ]
          },
          "execution_count": 7,
          "metadata": {},
          "output_type": "execute_result"
        }
      ],
      "source": [
        "# Step 5: Train the model\n",
        "model = LinearRegression()\n",
        "model.fit(X_train, y_train)"
      ]
    },
    {
      "cell_type": "markdown",
      "source": [
        "A linear regression model is created using LinearRegression(), and then it is trained on the training data using the fit method."
      ],
      "metadata": {
        "id": "0gGSenxiFYQs"
      },
      "id": "0gGSenxiFYQs"
    },
    {
      "cell_type": "code",
      "execution_count": null,
      "id": "0a8af340",
      "metadata": {
        "id": "0a8af340",
        "outputId": "2795c299-fc82-4519-d3d7-0d55e22df2c5"
      },
      "outputs": [
        {
          "name": "stdout",
          "output_type": "stream",
          "text": [
            "Mean Squared Error: 45173046132.79039\n"
          ]
        }
      ],
      "source": [
        "# Step 6: Evaluate the model\n",
        "y_pred = model.predict(X_test)\n",
        "mse = mean_squared_error(y_test, y_pred)\n",
        "\n",
        "print(\"Mean Squared Error:\", mse)"
      ]
    },
    {
      "cell_type": "markdown",
      "source": [
        "The trained model is used to make predictions on the testing data using the predict method. The mean squared error (MSE) is calculated by comparing the predicted values (y_pred) with the actual target values (y_test) using the mean_squared_error function. Finally, the MSE is printed to the console."
      ],
      "metadata": {
        "id": "GTAPq9IkFaqL"
      },
      "id": "GTAPq9IkFaqL"
    }
  ],
  "metadata": {
    "kernelspec": {
      "display_name": "Python 3 (ipykernel)",
      "language": "python",
      "name": "python3"
    },
    "language_info": {
      "codemirror_mode": {
        "name": "ipython",
        "version": 3
      },
      "file_extension": ".py",
      "mimetype": "text/x-python",
      "name": "python",
      "nbconvert_exporter": "python",
      "pygments_lexer": "ipython3",
      "version": "3.9.12"
    },
    "colab": {
      "provenance": [],
      "include_colab_link": true
    }
  },
  "nbformat": 4,
  "nbformat_minor": 5
}