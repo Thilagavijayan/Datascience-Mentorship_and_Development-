{
  "cells": [
    {
      "cell_type": "markdown",
      "metadata": {
        "id": "view-in-github",
        "colab_type": "text"
      },
      "source": [
        "<a href=\"https://colab.research.google.com/github/Thilagavijayan/Datascience_Mentorship_and_Development/blob/main/Linear_Regression_Model.ipynb\" target=\"_parent\"><img src=\"https://colab.research.google.com/assets/colab-badge.svg\" alt=\"Open In Colab\"/></a>"
      ]
    },
    {
      "cell_type": "markdown",
      "id": "985ea445",
      "metadata": {
        "id": "985ea445"
      },
      "source": [
        "# Linear Regression Model Training and Evaluation using House Price Prediction Dataset"
      ]
    },
    {
      "cell_type": "code",
      "execution_count": 1,
      "id": "9500f41d",
      "metadata": {
        "id": "9500f41d"
      },
      "outputs": [],
      "source": [
        "# Step 1: Import necessary libraries\n",
        "import pandas as pd\n",
        "from sklearn.model_selection import train_test_split\n",
        "from sklearn.linear_model import LinearRegression\n",
        "from sklearn.metrics import mean_squared_error"
      ]
    },
    {
      "cell_type": "markdown",
      "source": [
        "In this step, the required libraries are imported. Pandas is imported for data manipulation, train_test_split for splitting the dataset, LinearRegression for the linear regression model, and mean_squared_error for evaluating the model's performance."
      ],
      "metadata": {
        "id": "4tlFrdvDEe1j"
      },
      "id": "4tlFrdvDEe1j"
    },
    {
      "cell_type": "code",
      "execution_count": 4,
      "id": "a496d1f6",
      "metadata": {
        "id": "a496d1f6"
      },
      "outputs": [],
      "source": [
        "\n",
        "# Step 2: Load the dataset\n",
        "data = pd.read_csv('/content/kc_house_data.csv')"
      ]
    },
    {
      "cell_type": "markdown",
      "source": [
        "The dataset is loaded using the pandas read_csv function. The dataset file 'kc_house_data.csv' should be in the same directory as the Python script."
      ],
      "metadata": {
        "id": "bdWXoaxKEk94"
      },
      "id": "bdWXoaxKEk94"
    },
    {
      "cell_type": "code",
      "execution_count": 5,
      "id": "2be8bfe8",
      "metadata": {
        "id": "2be8bfe8"
      },
      "outputs": [],
      "source": [
        "# Step 3: Data preprocessing\n",
        "# Drop unnecessary columns\n",
        "data = data.drop(['id', 'date'], axis=1)\n",
        "# Handle missing values if any\n",
        "data = data.dropna()"
      ]
    },
    {
      "cell_type": "markdown",
      "source": [
        "In this step, unnecessary columns ('id' and 'date') are dropped from the dataset using the drop function. Missing values, if any, are also handled by dropping the rows containing missing values using dropna()."
      ],
      "metadata": {
        "id": "WQS0-NVXE2bB"
      },
      "id": "WQS0-NVXE2bB"
    },
    {
      "cell_type": "code",
      "execution_count": 6,
      "id": "fe1ae1a2",
      "metadata": {
        "id": "fe1ae1a2"
      },
      "outputs": [],
      "source": [
        "# Step 4: Split the dataset into training and testing sets\n",
        "X = data.drop('price', axis=1)\n",
        "y = data['price']\n",
        "X_train, X_test, y_train, y_test = train_test_split(X, y, test_size=0.2, random_state=42)"
      ]
    },
    {
      "cell_type": "markdown",
      "source": [
        "The dataset is split into features (X --> Independant variable) and the target variable (y --> Dependant variable). The train_test_split function is then used to split X and y into training and testing sets. The test size is set to 0.2, indicating that 20% of the data will be used for testing. The random_state parameter is set to 42 to ensure reproducibility of the results."
      ],
      "metadata": {
        "id": "a90Jnwm5FEs0"
      },
      "id": "a90Jnwm5FEs0"
    },
    {
      "cell_type": "code",
      "execution_count": 7,
      "id": "68e1d500",
      "metadata": {
        "id": "68e1d500",
        "outputId": "30bcbab1-1bc7-4b15-f711-fb2616eac1cb",
        "colab": {
          "base_uri": "https://localhost:8080/",
          "height": 74
        }
      },
      "outputs": [
        {
          "output_type": "execute_result",
          "data": {
            "text/plain": [
              "LinearRegression()"
            ],
            "text/html": [
              "<style>#sk-container-id-1 {color: black;background-color: white;}#sk-container-id-1 pre{padding: 0;}#sk-container-id-1 div.sk-toggleable {background-color: white;}#sk-container-id-1 label.sk-toggleable__label {cursor: pointer;display: block;width: 100%;margin-bottom: 0;padding: 0.3em;box-sizing: border-box;text-align: center;}#sk-container-id-1 label.sk-toggleable__label-arrow:before {content: \"▸\";float: left;margin-right: 0.25em;color: #696969;}#sk-container-id-1 label.sk-toggleable__label-arrow:hover:before {color: black;}#sk-container-id-1 div.sk-estimator:hover label.sk-toggleable__label-arrow:before {color: black;}#sk-container-id-1 div.sk-toggleable__content {max-height: 0;max-width: 0;overflow: hidden;text-align: left;background-color: #f0f8ff;}#sk-container-id-1 div.sk-toggleable__content pre {margin: 0.2em;color: black;border-radius: 0.25em;background-color: #f0f8ff;}#sk-container-id-1 input.sk-toggleable__control:checked~div.sk-toggleable__content {max-height: 200px;max-width: 100%;overflow: auto;}#sk-container-id-1 input.sk-toggleable__control:checked~label.sk-toggleable__label-arrow:before {content: \"▾\";}#sk-container-id-1 div.sk-estimator input.sk-toggleable__control:checked~label.sk-toggleable__label {background-color: #d4ebff;}#sk-container-id-1 div.sk-label input.sk-toggleable__control:checked~label.sk-toggleable__label {background-color: #d4ebff;}#sk-container-id-1 input.sk-hidden--visually {border: 0;clip: rect(1px 1px 1px 1px);clip: rect(1px, 1px, 1px, 1px);height: 1px;margin: -1px;overflow: hidden;padding: 0;position: absolute;width: 1px;}#sk-container-id-1 div.sk-estimator {font-family: monospace;background-color: #f0f8ff;border: 1px dotted black;border-radius: 0.25em;box-sizing: border-box;margin-bottom: 0.5em;}#sk-container-id-1 div.sk-estimator:hover {background-color: #d4ebff;}#sk-container-id-1 div.sk-parallel-item::after {content: \"\";width: 100%;border-bottom: 1px solid gray;flex-grow: 1;}#sk-container-id-1 div.sk-label:hover label.sk-toggleable__label {background-color: #d4ebff;}#sk-container-id-1 div.sk-serial::before {content: \"\";position: absolute;border-left: 1px solid gray;box-sizing: border-box;top: 0;bottom: 0;left: 50%;z-index: 0;}#sk-container-id-1 div.sk-serial {display: flex;flex-direction: column;align-items: center;background-color: white;padding-right: 0.2em;padding-left: 0.2em;position: relative;}#sk-container-id-1 div.sk-item {position: relative;z-index: 1;}#sk-container-id-1 div.sk-parallel {display: flex;align-items: stretch;justify-content: center;background-color: white;position: relative;}#sk-container-id-1 div.sk-item::before, #sk-container-id-1 div.sk-parallel-item::before {content: \"\";position: absolute;border-left: 1px solid gray;box-sizing: border-box;top: 0;bottom: 0;left: 50%;z-index: -1;}#sk-container-id-1 div.sk-parallel-item {display: flex;flex-direction: column;z-index: 1;position: relative;background-color: white;}#sk-container-id-1 div.sk-parallel-item:first-child::after {align-self: flex-end;width: 50%;}#sk-container-id-1 div.sk-parallel-item:last-child::after {align-self: flex-start;width: 50%;}#sk-container-id-1 div.sk-parallel-item:only-child::after {width: 0;}#sk-container-id-1 div.sk-dashed-wrapped {border: 1px dashed gray;margin: 0 0.4em 0.5em 0.4em;box-sizing: border-box;padding-bottom: 0.4em;background-color: white;}#sk-container-id-1 div.sk-label label {font-family: monospace;font-weight: bold;display: inline-block;line-height: 1.2em;}#sk-container-id-1 div.sk-label-container {text-align: center;}#sk-container-id-1 div.sk-container {/* jupyter's `normalize.less` sets `[hidden] { display: none; }` but bootstrap.min.css set `[hidden] { display: none !important; }` so we also need the `!important` here to be able to override the default hidden behavior on the sphinx rendered scikit-learn.org. See: https://github.com/scikit-learn/scikit-learn/issues/21755 */display: inline-block !important;position: relative;}#sk-container-id-1 div.sk-text-repr-fallback {display: none;}</style><div id=\"sk-container-id-1\" class=\"sk-top-container\"><div class=\"sk-text-repr-fallback\"><pre>LinearRegression()</pre><b>In a Jupyter environment, please rerun this cell to show the HTML representation or trust the notebook. <br />On GitHub, the HTML representation is unable to render, please try loading this page with nbviewer.org.</b></div><div class=\"sk-container\" hidden><div class=\"sk-item\"><div class=\"sk-estimator sk-toggleable\"><input class=\"sk-toggleable__control sk-hidden--visually\" id=\"sk-estimator-id-1\" type=\"checkbox\" checked><label for=\"sk-estimator-id-1\" class=\"sk-toggleable__label sk-toggleable__label-arrow\">LinearRegression</label><div class=\"sk-toggleable__content\"><pre>LinearRegression()</pre></div></div></div></div></div>"
            ]
          },
          "metadata": {},
          "execution_count": 7
        }
      ],
      "source": [
        "# Step 5: Train the model\n",
        "model = LinearRegression()\n",
        "model.fit(X_train, y_train)"
      ]
    },
    {
      "cell_type": "markdown",
      "source": [
        "A linear regression model is created using LinearRegression(), and then it is trained on the training data using the fit method."
      ],
      "metadata": {
        "id": "0gGSenxiFYQs"
      },
      "id": "0gGSenxiFYQs"
    },
    {
      "cell_type": "code",
      "execution_count": 8,
      "id": "0a8af340",
      "metadata": {
        "id": "0a8af340",
        "outputId": "4bdb48a6-5e6f-458b-cf17-441e097c2357",
        "colab": {
          "base_uri": "https://localhost:8080/"
        }
      },
      "outputs": [
        {
          "output_type": "stream",
          "name": "stdout",
          "text": [
            "Mean Squared Error: 45173046132.78893\n"
          ]
        }
      ],
      "source": [
        "# Step 6: Evaluate the model\n",
        "y_pred = model.predict(X_test)\n",
        "mse = mean_squared_error(y_test, y_pred)\n",
        "\n",
        "print(\"Mean Squared Error:\", mse)"
      ]
    },
    {
      "cell_type": "markdown",
      "source": [
        "The trained model is used to make predictions on the testing data using the predict method. The mean squared error (MSE) is calculated by comparing the predicted values (y_pred) with the actual target values (y_test) using the mean_squared_error function. Finally, the MSE is printed to the console."
      ],
      "metadata": {
        "id": "GTAPq9IkFaqL"
      },
      "id": "GTAPq9IkFaqL"
    }
  ],
  "metadata": {
    "kernelspec": {
      "display_name": "Python 3 (ipykernel)",
      "language": "python",
      "name": "python3"
    },
    "language_info": {
      "codemirror_mode": {
        "name": "ipython",
        "version": 3
      },
      "file_extension": ".py",
      "mimetype": "text/x-python",
      "name": "python",
      "nbconvert_exporter": "python",
      "pygments_lexer": "ipython3",
      "version": "3.9.12"
    },
    "colab": {
      "provenance": [],
      "include_colab_link": true
    }
  },
  "nbformat": 4,
  "nbformat_minor": 5
}